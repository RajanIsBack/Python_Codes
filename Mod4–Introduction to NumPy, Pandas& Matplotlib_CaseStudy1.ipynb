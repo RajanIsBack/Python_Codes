{
 "cells": [
  {
   "cell_type": "markdown",
   "metadata": {},
   "source": [
    "##  Module 4–Introduction to NumPy, Pandas& Matplotlib"
   ]
  },
  {
   "cell_type": "markdown",
   "metadata": {},
   "source": [
    "## Q1) Extract data from the givenSalaryGender CSV file and store the data from each column in a separate NumPy array"
   ]
  },
  {
   "cell_type": "code",
   "execution_count": 1,
   "metadata": {},
   "outputs": [
    {
     "data": {
      "text/html": [
       "<div>\n",
       "<style scoped>\n",
       "    .dataframe tbody tr th:only-of-type {\n",
       "        vertical-align: middle;\n",
       "    }\n",
       "\n",
       "    .dataframe tbody tr th {\n",
       "        vertical-align: top;\n",
       "    }\n",
       "\n",
       "    .dataframe thead th {\n",
       "        text-align: right;\n",
       "    }\n",
       "</style>\n",
       "<table border=\"1\" class=\"dataframe\">\n",
       "  <thead>\n",
       "    <tr style=\"text-align: right;\">\n",
       "      <th></th>\n",
       "      <th>Salary</th>\n",
       "      <th>Gender</th>\n",
       "      <th>Age</th>\n",
       "      <th>PhD</th>\n",
       "    </tr>\n",
       "  </thead>\n",
       "  <tbody>\n",
       "    <tr>\n",
       "      <th>0</th>\n",
       "      <td>140.0</td>\n",
       "      <td>1</td>\n",
       "      <td>47</td>\n",
       "      <td>1</td>\n",
       "    </tr>\n",
       "    <tr>\n",
       "      <th>1</th>\n",
       "      <td>30.0</td>\n",
       "      <td>0</td>\n",
       "      <td>65</td>\n",
       "      <td>1</td>\n",
       "    </tr>\n",
       "    <tr>\n",
       "      <th>2</th>\n",
       "      <td>35.1</td>\n",
       "      <td>0</td>\n",
       "      <td>56</td>\n",
       "      <td>0</td>\n",
       "    </tr>\n",
       "    <tr>\n",
       "      <th>3</th>\n",
       "      <td>30.0</td>\n",
       "      <td>1</td>\n",
       "      <td>23</td>\n",
       "      <td>0</td>\n",
       "    </tr>\n",
       "    <tr>\n",
       "      <th>4</th>\n",
       "      <td>80.0</td>\n",
       "      <td>0</td>\n",
       "      <td>53</td>\n",
       "      <td>1</td>\n",
       "    </tr>\n",
       "  </tbody>\n",
       "</table>\n",
       "</div>"
      ],
      "text/plain": [
       "   Salary  Gender  Age  PhD\n",
       "0   140.0       1   47    1\n",
       "1    30.0       0   65    1\n",
       "2    35.1       0   56    0\n",
       "3    30.0       1   23    0\n",
       "4    80.0       0   53    1"
      ]
     },
     "execution_count": 1,
     "metadata": {},
     "output_type": "execute_result"
    }
   ],
   "source": [
    "import pandas as pd\n",
    "import numpy as np\n",
    "\n",
    "df=pd.read_csv(r'C:\\Users\\Rajan Kumar\\Documents\\Python_Sundog\\DataScience\\Python_Code_Rajan\\574_m4_datasets_v3.0\\SalaryGender.csv')\n",
    "\n",
    "\n",
    "df.head()\n",
    "\n"
   ]
  },
  {
   "cell_type": "code",
   "execution_count": 34,
   "metadata": {},
   "outputs": [],
   "source": [
    "#extracting data in seperate file\n",
    "sal_arr=np.array(df.Salary)\n",
    "gen_arr=np.array(df.Gender)\n",
    "age_arr=np.array(df.Age)\n",
    "PhD_arr=np.array(df.PhD)"
   ]
  },
  {
   "cell_type": "markdown",
   "metadata": {},
   "source": [
    "## Q2) The number of men with a PhD. The number of women with a PhD"
   ]
  },
  {
   "cell_type": "code",
   "execution_count": 95,
   "metadata": {},
   "outputs": [
    {
     "name": "stdout",
     "output_type": "stream",
     "text": [
      "    Salary  Gender  Age  PhD\n",
      "0    140.0       1   47    1\n",
      "1     30.0       0   65    1\n",
      "4     80.0       0   53    1\n",
      "8    125.0       1   44    1\n",
      "9     51.0       1   63    1\n",
      "12   150.0       1   60    1\n",
      "17    84.0       0   47    1\n",
      "18   190.0       1   66    1\n",
      "19    74.0       1   45    1\n",
      "25    15.2       1   66    1\n",
      "26    28.6       1   36    1\n",
      "28    72.0       0   51    1\n",
      "29    81.0       1   65    1\n",
      "30   100.0       0   45    1\n",
      "31    90.0       0   52    1\n",
      "32    90.0       0   54    1\n",
      "38    63.0       1   34    1\n",
      "41    92.0       0   58    1\n",
      "42   106.0       1   77    1\n",
      "45    32.0       0   48    1\n",
      "47    55.0       1   49    1\n",
      "49    28.0       0   65    1\n",
      "54    84.0       0   49    1\n",
      "56   160.0       1   61    1\n",
      "57    65.0       0   43    1\n",
      "60   102.0       1   66    1\n",
      "63    55.0       1   56    1\n",
      "73   152.0       1   71    1\n",
      "76    30.0       1   69    1\n",
      "77   120.0       1   58    1\n",
      "79    36.0       1   32    1\n",
      "80    96.0       1   33    1\n",
      "81    38.0       0   32    1\n",
      "87    72.0       1   42    1\n",
      "89    41.0       0   51    1\n",
      "90    89.0       1   71    1\n",
      "92    52.0       1   55    1\n",
      "94    66.0       0   55    1\n",
      "96   152.0       1   56    1\n",
      "    Salary  Gender  Age  PhD\n",
      "0    140.0       1   47    1\n",
      "8    125.0       1   44    1\n",
      "9     51.0       1   63    1\n",
      "12   150.0       1   60    1\n",
      "18   190.0       1   66    1\n",
      "    Salary  Gender  Age  PhD\n",
      "1     30.0       0   65    1\n",
      "4     80.0       0   53    1\n",
      "17    84.0       0   47    1\n",
      "28    72.0       0   51    1\n",
      "30   100.0       0   45    1\n",
      "number of men with a PhD 48\n",
      "number of women with a PhD 15\n"
     ]
    }
   ],
   "source": [
    "df_PhD=df[df.PhD != 0]# without phd=0\n",
    "print(df_PhD)\n",
    "df_men_with_phd=df_PhD[df_PhD.Gender != 0]\n",
    "print(df_men_with_phd.head())\n",
    "\n",
    "df_women_with_phd=df_PhD[df_PhD.Gender != 1]\n",
    "print(df_women_with_phd.head())\n",
    "\n",
    "unique_elements,counts=np.unique(df_men_with_phd,return_counts=True)\n",
    "print(\"number of men with a PhD\", counts[0])\n",
    "\n",
    "unique_elements,counts=np.unique(df_women_with_phd,return_counts=True)\n",
    "print(\"number of women with a PhD\", counts[0])"
   ]
  },
  {
   "cell_type": "markdown",
   "metadata": {},
   "source": [
    "## Q3 ) Use SalaryGender CSV file. Store the “Age” and “PhD” columns in one DataFrame and delete the data of all people who don’t have a PhD"
   ]
  },
  {
   "cell_type": "code",
   "execution_count": 89,
   "metadata": {},
   "outputs": [
    {
     "name": "stdout",
     "output_type": "stream",
     "text": [
      "   Salary  Gender  Age  PhD\n",
      "0   140.0       1   47    1\n",
      "1    30.0       0   65    1\n",
      "2    35.1       0   56    0\n",
      "3    30.0       1   23    0\n",
      "4    80.0       0   53    1\n",
      "##############################\n",
      "   Age  PhD\n",
      "0   47    1\n",
      "1   65    1\n",
      "2   56    0\n",
      "3   23    0\n",
      "4   53    1\n",
      "##############################\n",
      "iloc -->    Age  PhD\n",
      "0   47    1\n",
      "1   65    1\n",
      "2   56    0\n",
      "3   23    0\n",
      "4   53    1\n",
      "   Age  PhD\n",
      "0   47    1\n",
      "1   65    1\n",
      "4   53    1\n",
      "8   44    1\n",
      "9   63    1\n"
     ]
    }
   ],
   "source": [
    "print(df.head())\n",
    "print(\"#\"*30)\n",
    "##dataFrame.iloc[<ROWS INDEX RANGE> , <COLUMNS INDEX RANGE>]\n",
    "df_sal_gender=df.loc[:,['Age','PhD']]\n",
    "print(df_sal_gender.head())\n",
    "print(\"#\"*30)\n",
    "df_sal_gender1=df.iloc[:,[2,3]]\n",
    "print(\"iloc -->\",df_sal_gender1.head())\n",
    "\n",
    "# Drop a row by condition\n",
    "df_without_phd=df_sal_gender[df_sal_gender.PhD != 0]\n",
    "print(df_without_phd.head())"
   ]
  },
  {
   "cell_type": "markdown",
   "metadata": {},
   "source": [
    "## 4.Calculate the total number of people who have a PhD degreefrom SalaryGender CSV file"
   ]
  },
  {
   "cell_type": "code",
   "execution_count": 99,
   "metadata": {},
   "outputs": [
    {
     "name": "stdout",
     "output_type": "stream",
     "text": [
      "number of women with a PhD 63\n"
     ]
    }
   ],
   "source": [
    "unique_elements,counts=np.unique(df_PhD,return_counts=True)\n",
    "print(\"Toal number of people having PhD\", counts[1])"
   ]
  },
  {
   "cell_type": "markdown",
   "metadata": {},
   "source": [
    "## 5 ) How  do  you  Count  The  Number  Of  Times  Each  Value  Appears  In  An  Array  Of Integers?"
   ]
  },
  {
   "cell_type": "code",
   "execution_count": 102,
   "metadata": {},
   "outputs": [
    {
     "name": "stdout",
     "output_type": "stream",
     "text": [
      "[0 5 4 0 4 4 3 0 0 5 2 1 1 9]\n",
      "[0 1 2 3 4 5 9] [4 2 1 1 3 2 1]\n"
     ]
    }
   ],
   "source": [
    "arr=[0, 5, 4, 0, 4, 4, 3, 0, 0, 5, 2, 1, 1, 9]#Answer should be array([4, 2, 1, 1, 3, 2, 0, 0, 0, 1])\n",
    "arr1=np.array(arr)\n",
    "print(arr1)\n",
    "\n",
    "unique_elements,counts=np.unique(arr1,return_counts=True)\n",
    "\n",
    "print(unique_elements,counts)\n"
   ]
  },
  {
   "cell_type": "markdown",
   "metadata": {},
   "source": [
    "## 6)Create a numpyarray [[0, 1, 2],[ 3, 4, 5],[ 6, 7, 8],[ 9,10, 11]]) and filter the elements greater than 5"
   ]
  },
  {
   "cell_type": "code",
   "execution_count": 61,
   "metadata": {},
   "outputs": [
    {
     "name": "stdout",
     "output_type": "stream",
     "text": [
      "[[ 0  1  2]\n",
      " [ 3  4  5]\n",
      " [ 6  7  8]\n",
      " [ 9 10 11]]\n",
      "Values bigger than 5 = [ 6  7  8  9 10 11]\n"
     ]
    }
   ],
   "source": [
    "arr=np.array([[0, 1, 2],[ 3, 4, 5],[ 6, 7, 8],[ 9,10, 11]])\n",
    "print(arr)\n",
    "\n",
    "print(\"Values bigger than 5 =\", arr[arr>5])"
   ]
  },
  {
   "cell_type": "markdown",
   "metadata": {},
   "source": [
    "## 7)Create a numpy array having NaN (Not a Number) and print it.array([ nan,   1.,   2.,  nan,   3.,   4.,   5.])\n",
    "--Print the same array omitting all elements which are nan"
   ]
  },
  {
   "cell_type": "code",
   "execution_count": 28,
   "metadata": {},
   "outputs": [
    {
     "data": {
      "text/plain": [
       "array(['', '1.0', '2.0', '', '4.0', '5.0'], dtype='<U3')"
      ]
     },
     "execution_count": 28,
     "metadata": {},
     "output_type": "execute_result"
    }
   ],
   "source": [
    "import numpy as np\n",
    "x=[\"\",1.,2.,\"\",4.,5.]\n",
    "op=np.nan_to_num(x)\n",
    "op\n"
   ]
  },
  {
   "cell_type": "markdown",
   "metadata": {},
   "source": [
    "\n",
    "## 8.Create  a  10x10  array  with  random  values  and  find  the  minimum  and  maximum values"
   ]
  },
  {
   "cell_type": "code",
   "execution_count": 72,
   "metadata": {},
   "outputs": [
    {
     "name": "stdout",
     "output_type": "stream",
     "text": [
      "Original Array:\n",
      "[[0.57300743 0.48852218 0.20513883 0.95973968 0.66813987 0.88401423\n",
      "  0.56291038 0.06394413 0.35739833 0.12595503]\n",
      " [0.09336324 0.74085366 0.06816192 0.86178645 0.97051012 0.31543044\n",
      "  0.03419162 0.20873109 0.57600613 0.18866085]\n",
      " [0.51513894 0.05678112 0.756764   0.63555588 0.26130961 0.39160233\n",
      "  0.43918113 0.37250671 0.7286319  0.2397192 ]\n",
      " [0.7221283  0.29324158 0.18269215 0.50196667 0.84599864 0.39936084\n",
      "  0.37114512 0.9297341  0.96775806 0.39538703]\n",
      " [0.62729673 0.98914667 0.71116445 0.12687822 0.91253522 0.00344354\n",
      "  0.2364936  0.02990644 0.65477404 0.89097116]\n",
      " [0.3116284  0.44355984 0.07740482 0.0353858  0.23953239 0.87268172\n",
      "  0.28937764 0.64300021 0.41599061 0.83553064]\n",
      " [0.15676115 0.82747693 0.95146013 0.51712922 0.75977359 0.63109156\n",
      "  0.79296495 0.52232818 0.06987919 0.40321358]\n",
      " [0.91767373 0.37534501 0.66834388 0.86740323 0.28552939 0.5904445\n",
      "  0.41760728 0.62647299 0.5782759  0.05409778]\n",
      " [0.60996897 0.69030496 0.06423732 0.39946152 0.47003021 0.2926454\n",
      "  0.60885554 0.24969175 0.96936918 0.56886704]\n",
      " [0.64460943 0.97451076 0.55666512 0.69286616 0.79275958 0.993352\n",
      "  0.67991501 0.6099444  0.89521267 0.08063198]]\n",
      "##################################################\n",
      "Minimum and Maximum Values:\n",
      "0.003443538748643893 0.9933520003930577\n"
     ]
    }
   ],
   "source": [
    "arr1=np.random.rand(10,10)\n",
    "print(\"Original Array:\")\n",
    "print(arr1)\n",
    "print(\"#\"*50)\n",
    "xmin, xmax = arr1.min(), arr1.max()\n",
    "print(\"Minimum and Maximum Values:\")\n",
    "print(xmin, xmax)"
   ]
  },
  {
   "cell_type": "markdown",
   "metadata": {},
   "source": [
    " ##  9. Create a random vector of size 30 and find the mean value"
   ]
  },
  {
   "cell_type": "code",
   "execution_count": 77,
   "metadata": {},
   "outputs": [
    {
     "name": "stdout",
     "output_type": "stream",
     "text": [
      "Original vecgtor:\n",
      "[0.5132015  0.74716062 0.41478493 0.2192202  0.48714582 0.15482459\n",
      " 0.13938901 0.21494077 0.68227817 0.31147366 0.20230333 0.6715854\n",
      " 0.79603242 0.67641003 0.27241688 0.51380942 0.36799965 0.42064686\n",
      " 0.39415594 0.90077316 0.55571306 0.82041597 0.04766883 0.93495759\n",
      " 0.44909175 0.53047831 0.01240537 0.24511432 0.59528248 0.59034195]\n",
      "mean value:\n",
      "0.46273406584826077\n"
     ]
    }
   ],
   "source": [
    "x = np.random.rand(30)\n",
    "print(\"Original vecgtor:\")\n",
    "print(x)\n",
    "y=x.mean()\n",
    "print(\"mean value:\")\n",
    "print(y)"
   ]
  },
  {
   "cell_type": "markdown",
   "metadata": {},
   "source": [
    "## 10.Create numpy array having elements 0 to 10 And negate all the elements between 3 and 9"
   ]
  },
  {
   "cell_type": "code",
   "execution_count": 95,
   "metadata": {},
   "outputs": [
    {
     "name": "stdout",
     "output_type": "stream",
     "text": [
      "[ 0  1  2  3  4  5  6  7  8  9 10]\n",
      "[ 0  1  2  3 -4 -5 -6 -7 -8  9 10 11]\n"
     ]
    }
   ],
   "source": [
    "arr10=np.arange(11)\n",
    "print(arr10)\n",
    "\n",
    "c=np.where((arr>3) & (arr<9) ,arr*-1,arr).flatten()\n",
    "\n",
    "print(c)"
   ]
  },
  {
   "cell_type": "markdown",
   "metadata": {},
   "source": [
    "## 11.Create a random array of 3 rows and 3 columns and sort it according to 1stcolumn, 2ndcolumn or 3rdcolumn"
   ]
  },
  {
   "cell_type": "code",
   "execution_count": 104,
   "metadata": {},
   "outputs": [
    {
     "name": "stdout",
     "output_type": "stream",
     "text": [
      "[[0 1 2]\n",
      " [3 4 5]\n",
      " [6 7 8]]\n",
      "Result after sort :##################################\n",
      "[[0 1 2]\n",
      " [3 4 5]\n",
      " [6 7 8]]\n"
     ]
    }
   ],
   "source": [
    "arr3=np.arange(9).reshape(3,3)\n",
    "print(arr3)\n",
    "arr3[arr3[:,0].argsort()]\n",
    "print(\"Result after sort :##################################\")\n",
    "print(arr3)"
   ]
  },
  {
   "cell_type": "markdown",
   "metadata": {},
   "source": [
    "## 12.Create a four dimensions array get sum over the last two axis at once"
   ]
  },
  {
   "cell_type": "code",
   "execution_count": 108,
   "metadata": {},
   "outputs": [
    {
     "name": "stdout",
     "output_type": "stream",
     "text": [
      "[[ 0  1  2  3]\n",
      " [ 4  5  6  7]\n",
      " [ 8  9 10 11]\n",
      " [12 13 14 15]]\n"
     ]
    },
    {
     "data": {
      "text/plain": [
       "120"
      ]
     },
     "execution_count": 108,
     "metadata": {},
     "output_type": "execute_result"
    }
   ],
   "source": [
    "arr4d=np.arange(16).reshape(4,4)\n",
    "print(arr4d)\n",
    "arr4d.sum(axis=(-1, -2))"
   ]
  },
  {
   "cell_type": "markdown",
   "metadata": {},
   "source": [
    "## 13.Create a random array and swap two rows of an array."
   ]
  },
  {
   "cell_type": "code",
   "execution_count": 113,
   "metadata": {},
   "outputs": [
    {
     "name": "stdout",
     "output_type": "stream",
     "text": [
      "[[[0 7 9]\n",
      "  [4 4 9]\n",
      "  [5 4 0]]\n",
      "\n",
      " [[4 4 2]\n",
      "  [4 2 9]\n",
      "  [8 6 6]]]\n",
      "##################### printing b #############\n",
      "[[[5 4 1 9 6]\n",
      "  [7 9 1 4 1]\n",
      "  [1 7 6 5 7]\n",
      "  [2 8 9 2 1]\n",
      "  [1 7 9 2 3]]\n",
      "\n",
      " [[2 3 2 5 9]\n",
      "  [9 7 9 4 4]\n",
      "  [7 8 9 8 1]\n",
      "  [5 5 8 4 7]\n",
      "  [1 4 8 1 6]]]\n",
      "###################After swapping ########################33\n",
      "[[[5 7 9]\n",
      "  [4 4 9]\n",
      "  [5 4 0]]\n",
      "\n",
      " [[2 4 2]\n",
      "  [4 2 9]\n",
      "  [8 6 6]]]\n",
      "[[[0 4 1 9 6]\n",
      "  [7 9 1 4 1]\n",
      "  [1 7 6 5 7]\n",
      "  [2 8 9 2 1]\n",
      "  [1 7 9 2 3]]\n",
      "\n",
      " [[4 3 2 5 9]\n",
      "  [9 7 9 4 4]\n",
      "  [7 8 9 8 1]\n",
      "  [5 5 8 4 7]\n",
      "  [1 4 8 1 6]]]\n"
     ]
    }
   ],
   "source": [
    "a = np.random.randint(0, 10, (2, 3,3))\n",
    "b = np.random.randint(0, 10, (2, 5,5))\n",
    "\n",
    "print(a)\n",
    "\n",
    "print(\"##################### printing b #############\")\n",
    "print(b)\n",
    "\n",
    "#swap\n",
    "a[:,0,0], b[:, 0, 0] = b[:, 0, 0], a[:, 0, 0].copy()\n",
    "\n",
    "print(\"###################After swapping ########################33\")\n",
    "print(a)\n",
    "print(b)\n"
   ]
  },
  {
   "cell_type": "markdown",
   "metadata": {},
   "source": [
    "##   14.Create a randommatrix and Compute a matrix rank."
   ]
  },
  {
   "cell_type": "code",
   "execution_count": 114,
   "metadata": {},
   "outputs": [
    {
     "name": "stdout",
     "output_type": "stream",
     "text": [
      "Rank of the Matrix is: 2\n"
     ]
    }
   ],
   "source": [
    "# Python 3 program to find rank of a matrix \n",
    "class rankMatrix(object): \n",
    "\tdef __init__(self, Matrix): \n",
    "\t\tself.R = len(Matrix) \n",
    "\t\tself.C = len(Matrix[0]) \n",
    "\t\t\n",
    "\t# Function for exchanging two rows of a matrix \n",
    "\tdef swap(self, Matrix, row1, row2, col): \n",
    "\t\tfor i in range(col): \n",
    "\t\t\ttemp = Matrix[row1][i] \n",
    "\t\t\tMatrix[row1][i] = Matrix[row2][i] \n",
    "\t\t\tMatrix[row2][i] = temp \n",
    "\t\t\t\n",
    "\t# Function to Display a matrix \n",
    "\tdef Display(self, Matrix, row, col): \n",
    "\t\tfor i in range(row): \n",
    "\t\t\tfor j in range(col): \n",
    "\t\t\t\tprint (\" \" + str(Matrix[i][j])) \n",
    "\t\t\tprint ('\\n') \n",
    "\t\t\t\n",
    "\t# Find rank of a matrix \n",
    "\tdef rankOfMatrix(self, Matrix): \n",
    "\t\trank = self.C \n",
    "\t\tfor row in range(0, rank, 1): \n",
    "\t\t\t\n",
    "\t\t\t# Before we visit current row \n",
    "\t\t\t# 'row', we make sure that \n",
    "\t\t\t# mat[row][0],....mat[row][row-1] \n",
    "\t\t\t# are 0. \n",
    "\t\n",
    "\t\t\t# Diagonal element is not zero \n",
    "\t\t\tif Matrix[row][row] != 0: \n",
    "\t\t\t\tfor col in range(0, self.R, 1): \n",
    "\t\t\t\t\tif col != row: \n",
    "\t\t\t\t\t\t\n",
    "\t\t\t\t\t\t# This makes all entries of current \n",
    "\t\t\t\t\t\t# column as 0 except entry 'mat[row][row]' \n",
    "\t\t\t\t\t\tmultiplier = (Matrix[col][row] /\n",
    "\t\t\t\t\t\t\t\t\tMatrix[row][row]) \n",
    "\t\t\t\t\t\tfor i in range(rank): \n",
    "\t\t\t\t\t\t\tMatrix[col][i] -= (multiplier *\n",
    "\t\t\t\t\t\t\t\t\t\t\tMatrix[row][i]) \n",
    "\t\t\t\t\t\t\t\t\t\t\t\t\n",
    "\t\t\t# Diagonal element is already zero. \n",
    "\t\t\t# Two cases arise: \n",
    "\t\t\t# 1) If there is a row below it \n",
    "\t\t\t# with non-zero entry, then swap \n",
    "\t\t\t# this row with that row and process \n",
    "\t\t\t# that row \n",
    "\t\t\t# 2) If all elements in current \n",
    "\t\t\t# column below mat[r][row] are 0, \n",
    "\t\t\t# then remvoe this column by \n",
    "\t\t\t# swapping it with last column and \n",
    "\t\t\t# reducing number of columns by 1. \n",
    "\t\t\telse: \n",
    "\t\t\t\treduce = True\n",
    "\t\t\t\t\n",
    "\t\t\t\t# Find the non-zero element \n",
    "\t\t\t\t# in current column \n",
    "\t\t\t\tfor i in range(row + 1, self.R, 1): \n",
    "\t\t\t\t\t\n",
    "\t\t\t\t\t# Swap the row with non-zero \n",
    "\t\t\t\t\t# element with this row. \n",
    "\t\t\t\t\tif Matrix[i][row] != 0: \n",
    "\t\t\t\t\t\tself.swap(Matrix, row, i, rank) \n",
    "\t\t\t\t\t\treduce = False\n",
    "\t\t\t\t\t\tbreak\n",
    "\t\t\t\t\t\t\n",
    "\t\t\t\t# If we did not find any row with \n",
    "\t\t\t\t# non-zero element in current \n",
    "\t\t\t\t# columnm, then all values in \n",
    "\t\t\t\t# this column are 0. \n",
    "\t\t\t\tif reduce: \n",
    "\t\t\t\t\t\n",
    "\t\t\t\t\t# Reduce number of columns \n",
    "\t\t\t\t\trank -= 1\n",
    "\t\t\t\t\t\n",
    "\t\t\t\t\t# copy the last column here \n",
    "\t\t\t\t\tfor i in range(0, self.R, 1): \n",
    "\t\t\t\t\t\tMatrix[i][row] = Matrix[i][rank] \n",
    "\t\t\t\t\t\t\n",
    "\t\t\t\t# process this row again \n",
    "\t\t\t\trow -= 1\n",
    "\t\t\t\t\n",
    "\t\t# self.Display(Matrix, self.R,self.C) \n",
    "\t\treturn (rank) \n",
    "\n",
    "# Driver Code \n",
    "if __name__ == '__main__': \n",
    "\tMatrix = [[10, 20, 10], \n",
    "\t\t\t[-20, -30, 10], \n",
    "\t\t\t[30, 50, 0]] \n",
    "\tRankMatrix = rankMatrix(Matrix) \n",
    "\tprint (\"Rank of the Matrix is:\", \n",
    "\t\t(RankMatrix.rankOfMatrix(Matrix))) \n",
    "\n",
    "# This code is contributed by Vikas Chitturi \n"
   ]
  },
  {
   "cell_type": "code",
   "execution_count": 3,
   "metadata": {},
   "outputs": [
    {
     "data": {
      "text/html": [
       "<div>\n",
       "<style scoped>\n",
       "    .dataframe tbody tr th:only-of-type {\n",
       "        vertical-align: middle;\n",
       "    }\n",
       "\n",
       "    .dataframe tbody tr th {\n",
       "        vertical-align: top;\n",
       "    }\n",
       "\n",
       "    .dataframe thead th {\n",
       "        text-align: right;\n",
       "    }\n",
       "</style>\n",
       "<table border=\"1\" class=\"dataframe\">\n",
       "  <thead>\n",
       "    <tr style=\"text-align: right;\">\n",
       "      <th></th>\n",
       "      <th>name</th>\n",
       "      <th>school_rating</th>\n",
       "      <th>size</th>\n",
       "      <th>reduced_lunch</th>\n",
       "      <th>state_percentile_16</th>\n",
       "      <th>state_percentile_15</th>\n",
       "      <th>stu_teach_ratio</th>\n",
       "      <th>school_type</th>\n",
       "      <th>avg_score_15</th>\n",
       "      <th>avg_score_16</th>\n",
       "      <th>full_time_teachers</th>\n",
       "      <th>percent_black</th>\n",
       "      <th>percent_white</th>\n",
       "      <th>percent_asian</th>\n",
       "      <th>percent_hispanic</th>\n",
       "    </tr>\n",
       "  </thead>\n",
       "  <tbody>\n",
       "    <tr>\n",
       "      <th>0</th>\n",
       "      <td>Allendale Elementary School</td>\n",
       "      <td>5.0</td>\n",
       "      <td>851.0</td>\n",
       "      <td>10.0</td>\n",
       "      <td>90.2</td>\n",
       "      <td>95.8</td>\n",
       "      <td>15.7</td>\n",
       "      <td>Public</td>\n",
       "      <td>89.4</td>\n",
       "      <td>85.2</td>\n",
       "      <td>54.0</td>\n",
       "      <td>2.9</td>\n",
       "      <td>85.5</td>\n",
       "      <td>1.6</td>\n",
       "      <td>5.6</td>\n",
       "    </tr>\n",
       "    <tr>\n",
       "      <th>1</th>\n",
       "      <td>Anderson Elementary</td>\n",
       "      <td>2.0</td>\n",
       "      <td>412.0</td>\n",
       "      <td>71.0</td>\n",
       "      <td>32.8</td>\n",
       "      <td>37.3</td>\n",
       "      <td>12.8</td>\n",
       "      <td>Public</td>\n",
       "      <td>43.0</td>\n",
       "      <td>38.3</td>\n",
       "      <td>32.0</td>\n",
       "      <td>3.9</td>\n",
       "      <td>86.7</td>\n",
       "      <td>1.0</td>\n",
       "      <td>4.9</td>\n",
       "    </tr>\n",
       "    <tr>\n",
       "      <th>2</th>\n",
       "      <td>Avoca Elementary</td>\n",
       "      <td>4.0</td>\n",
       "      <td>482.0</td>\n",
       "      <td>43.0</td>\n",
       "      <td>78.4</td>\n",
       "      <td>83.6</td>\n",
       "      <td>16.6</td>\n",
       "      <td>Public</td>\n",
       "      <td>75.7</td>\n",
       "      <td>73.0</td>\n",
       "      <td>29.0</td>\n",
       "      <td>1.0</td>\n",
       "      <td>91.5</td>\n",
       "      <td>1.2</td>\n",
       "      <td>4.4</td>\n",
       "    </tr>\n",
       "    <tr>\n",
       "      <th>3</th>\n",
       "      <td>Bailey Middle</td>\n",
       "      <td>0.0</td>\n",
       "      <td>394.0</td>\n",
       "      <td>91.0</td>\n",
       "      <td>1.6</td>\n",
       "      <td>1.0</td>\n",
       "      <td>13.1</td>\n",
       "      <td>Public Magnet</td>\n",
       "      <td>2.1</td>\n",
       "      <td>4.4</td>\n",
       "      <td>30.0</td>\n",
       "      <td>80.7</td>\n",
       "      <td>11.7</td>\n",
       "      <td>2.3</td>\n",
       "      <td>4.3</td>\n",
       "    </tr>\n",
       "    <tr>\n",
       "      <th>4</th>\n",
       "      <td>Barfield Elementary</td>\n",
       "      <td>4.0</td>\n",
       "      <td>948.0</td>\n",
       "      <td>26.0</td>\n",
       "      <td>85.3</td>\n",
       "      <td>89.2</td>\n",
       "      <td>14.8</td>\n",
       "      <td>Public</td>\n",
       "      <td>81.3</td>\n",
       "      <td>79.6</td>\n",
       "      <td>64.0</td>\n",
       "      <td>11.8</td>\n",
       "      <td>71.2</td>\n",
       "      <td>7.1</td>\n",
       "      <td>6.0</td>\n",
       "    </tr>\n",
       "  </tbody>\n",
       "</table>\n",
       "</div>"
      ],
      "text/plain": [
       "                          name  school_rating   size  reduced_lunch  \\\n",
       "0  Allendale Elementary School            5.0  851.0           10.0   \n",
       "1          Anderson Elementary            2.0  412.0           71.0   \n",
       "2             Avoca Elementary            4.0  482.0           43.0   \n",
       "3                Bailey Middle            0.0  394.0           91.0   \n",
       "4          Barfield Elementary            4.0  948.0           26.0   \n",
       "\n",
       "   state_percentile_16  state_percentile_15  stu_teach_ratio    school_type  \\\n",
       "0                 90.2                 95.8             15.7         Public   \n",
       "1                 32.8                 37.3             12.8         Public   \n",
       "2                 78.4                 83.6             16.6         Public   \n",
       "3                  1.6                  1.0             13.1  Public Magnet   \n",
       "4                 85.3                 89.2             14.8         Public   \n",
       "\n",
       "   avg_score_15  avg_score_16  full_time_teachers  percent_black  \\\n",
       "0          89.4          85.2                54.0            2.9   \n",
       "1          43.0          38.3                32.0            3.9   \n",
       "2          75.7          73.0                29.0            1.0   \n",
       "3           2.1           4.4                30.0           80.7   \n",
       "4          81.3          79.6                64.0           11.8   \n",
       "\n",
       "   percent_white  percent_asian  percent_hispanic  \n",
       "0           85.5            1.6               5.6  \n",
       "1           86.7            1.0               4.9  \n",
       "2           91.5            1.2               4.4  \n",
       "3           11.7            2.3               4.3  \n",
       "4           71.2            7.1               6.0  "
      ]
     },
     "execution_count": 3,
     "metadata": {},
     "output_type": "execute_result"
    }
   ],
   "source": [
    "#15. C:\\Users\\Rajan Kumar\\Documents\\Python_Sundog\\DataScience\\Python_Code_Rajan\\574_m4_datasets_v3.0\n",
    "import pandas as pd\n",
    "\n",
    "df=pd.read_csv(r'C:\\Users\\Rajan Kumar\\Documents\\Python_Sundog\\DataScience\\Python_Code_Rajan\\574_m4_datasets_v3.0\\middle_tn_schools.csv')\n",
    "\n",
    "df.head()"
   ]
  },
  {
   "cell_type": "code",
   "execution_count": 119,
   "metadata": {},
   "outputs": [
    {
     "data": {
      "text/html": [
       "<div>\n",
       "<style scoped>\n",
       "    .dataframe tbody tr th:only-of-type {\n",
       "        vertical-align: middle;\n",
       "    }\n",
       "\n",
       "    .dataframe tbody tr th {\n",
       "        vertical-align: top;\n",
       "    }\n",
       "\n",
       "    .dataframe thead th {\n",
       "        text-align: right;\n",
       "    }\n",
       "</style>\n",
       "<table border=\"1\" class=\"dataframe\">\n",
       "  <thead>\n",
       "    <tr style=\"text-align: right;\">\n",
       "      <th></th>\n",
       "      <th>school_rating</th>\n",
       "      <th>size</th>\n",
       "      <th>reduced_lunch</th>\n",
       "      <th>state_percentile_16</th>\n",
       "      <th>state_percentile_15</th>\n",
       "      <th>stu_teach_ratio</th>\n",
       "      <th>avg_score_15</th>\n",
       "      <th>avg_score_16</th>\n",
       "      <th>full_time_teachers</th>\n",
       "      <th>percent_black</th>\n",
       "      <th>percent_white</th>\n",
       "      <th>percent_asian</th>\n",
       "      <th>percent_hispanic</th>\n",
       "    </tr>\n",
       "  </thead>\n",
       "  <tbody>\n",
       "    <tr>\n",
       "      <th>count</th>\n",
       "      <td>347.000000</td>\n",
       "      <td>347.000000</td>\n",
       "      <td>347.000000</td>\n",
       "      <td>347.000000</td>\n",
       "      <td>341.000000</td>\n",
       "      <td>347.000000</td>\n",
       "      <td>341.000000</td>\n",
       "      <td>347.000000</td>\n",
       "      <td>347.000000</td>\n",
       "      <td>347.000000</td>\n",
       "      <td>347.000000</td>\n",
       "      <td>347.000000</td>\n",
       "      <td>347.000000</td>\n",
       "    </tr>\n",
       "    <tr>\n",
       "      <th>mean</th>\n",
       "      <td>2.968300</td>\n",
       "      <td>699.472622</td>\n",
       "      <td>50.279539</td>\n",
       "      <td>58.801729</td>\n",
       "      <td>58.249267</td>\n",
       "      <td>15.461671</td>\n",
       "      <td>57.004692</td>\n",
       "      <td>57.049856</td>\n",
       "      <td>44.939481</td>\n",
       "      <td>21.197983</td>\n",
       "      <td>61.673487</td>\n",
       "      <td>2.642651</td>\n",
       "      <td>11.164553</td>\n",
       "    </tr>\n",
       "    <tr>\n",
       "      <th>std</th>\n",
       "      <td>1.690377</td>\n",
       "      <td>400.598636</td>\n",
       "      <td>25.480236</td>\n",
       "      <td>32.540747</td>\n",
       "      <td>32.702630</td>\n",
       "      <td>5.725170</td>\n",
       "      <td>26.696450</td>\n",
       "      <td>27.968974</td>\n",
       "      <td>22.053386</td>\n",
       "      <td>23.562538</td>\n",
       "      <td>27.274859</td>\n",
       "      <td>3.109629</td>\n",
       "      <td>12.030608</td>\n",
       "    </tr>\n",
       "    <tr>\n",
       "      <th>min</th>\n",
       "      <td>0.000000</td>\n",
       "      <td>53.000000</td>\n",
       "      <td>2.000000</td>\n",
       "      <td>0.200000</td>\n",
       "      <td>0.600000</td>\n",
       "      <td>4.700000</td>\n",
       "      <td>1.500000</td>\n",
       "      <td>0.100000</td>\n",
       "      <td>2.000000</td>\n",
       "      <td>0.000000</td>\n",
       "      <td>1.100000</td>\n",
       "      <td>0.000000</td>\n",
       "      <td>0.000000</td>\n",
       "    </tr>\n",
       "    <tr>\n",
       "      <th>25%</th>\n",
       "      <td>2.000000</td>\n",
       "      <td>420.500000</td>\n",
       "      <td>30.000000</td>\n",
       "      <td>30.950000</td>\n",
       "      <td>27.100000</td>\n",
       "      <td>13.700000</td>\n",
       "      <td>37.600000</td>\n",
       "      <td>37.000000</td>\n",
       "      <td>30.000000</td>\n",
       "      <td>3.600000</td>\n",
       "      <td>40.600000</td>\n",
       "      <td>0.750000</td>\n",
       "      <td>3.800000</td>\n",
       "    </tr>\n",
       "    <tr>\n",
       "      <th>50%</th>\n",
       "      <td>3.000000</td>\n",
       "      <td>595.000000</td>\n",
       "      <td>51.000000</td>\n",
       "      <td>66.400000</td>\n",
       "      <td>65.800000</td>\n",
       "      <td>15.000000</td>\n",
       "      <td>61.800000</td>\n",
       "      <td>60.700000</td>\n",
       "      <td>40.000000</td>\n",
       "      <td>13.500000</td>\n",
       "      <td>68.700000</td>\n",
       "      <td>1.600000</td>\n",
       "      <td>6.400000</td>\n",
       "    </tr>\n",
       "    <tr>\n",
       "      <th>75%</th>\n",
       "      <td>4.000000</td>\n",
       "      <td>851.000000</td>\n",
       "      <td>71.500000</td>\n",
       "      <td>88.000000</td>\n",
       "      <td>88.600000</td>\n",
       "      <td>16.700000</td>\n",
       "      <td>79.600000</td>\n",
       "      <td>80.250000</td>\n",
       "      <td>54.000000</td>\n",
       "      <td>28.350000</td>\n",
       "      <td>85.950000</td>\n",
       "      <td>3.100000</td>\n",
       "      <td>13.800000</td>\n",
       "    </tr>\n",
       "    <tr>\n",
       "      <th>max</th>\n",
       "      <td>5.000000</td>\n",
       "      <td>2314.000000</td>\n",
       "      <td>98.000000</td>\n",
       "      <td>99.800000</td>\n",
       "      <td>99.800000</td>\n",
       "      <td>111.000000</td>\n",
       "      <td>99.000000</td>\n",
       "      <td>98.900000</td>\n",
       "      <td>140.000000</td>\n",
       "      <td>97.400000</td>\n",
       "      <td>99.700000</td>\n",
       "      <td>21.100000</td>\n",
       "      <td>65.200000</td>\n",
       "    </tr>\n",
       "  </tbody>\n",
       "</table>\n",
       "</div>"
      ],
      "text/plain": [
       "       school_rating         size  reduced_lunch  state_percentile_16  \\\n",
       "count     347.000000   347.000000     347.000000           347.000000   \n",
       "mean        2.968300   699.472622      50.279539            58.801729   \n",
       "std         1.690377   400.598636      25.480236            32.540747   \n",
       "min         0.000000    53.000000       2.000000             0.200000   \n",
       "25%         2.000000   420.500000      30.000000            30.950000   \n",
       "50%         3.000000   595.000000      51.000000            66.400000   \n",
       "75%         4.000000   851.000000      71.500000            88.000000   \n",
       "max         5.000000  2314.000000      98.000000            99.800000   \n",
       "\n",
       "       state_percentile_15  stu_teach_ratio  avg_score_15  avg_score_16  \\\n",
       "count           341.000000       347.000000    341.000000    347.000000   \n",
       "mean             58.249267        15.461671     57.004692     57.049856   \n",
       "std              32.702630         5.725170     26.696450     27.968974   \n",
       "min               0.600000         4.700000      1.500000      0.100000   \n",
       "25%              27.100000        13.700000     37.600000     37.000000   \n",
       "50%              65.800000        15.000000     61.800000     60.700000   \n",
       "75%              88.600000        16.700000     79.600000     80.250000   \n",
       "max              99.800000       111.000000     99.000000     98.900000   \n",
       "\n",
       "       full_time_teachers  percent_black  percent_white  percent_asian  \\\n",
       "count          347.000000     347.000000     347.000000     347.000000   \n",
       "mean            44.939481      21.197983      61.673487       2.642651   \n",
       "std             22.053386      23.562538      27.274859       3.109629   \n",
       "min              2.000000       0.000000       1.100000       0.000000   \n",
       "25%             30.000000       3.600000      40.600000       0.750000   \n",
       "50%             40.000000      13.500000      68.700000       1.600000   \n",
       "75%             54.000000      28.350000      85.950000       3.100000   \n",
       "max            140.000000      97.400000      99.700000      21.100000   \n",
       "\n",
       "       percent_hispanic  \n",
       "count        347.000000  \n",
       "mean          11.164553  \n",
       "std           12.030608  \n",
       "min            0.000000  \n",
       "25%            3.800000  \n",
       "50%            6.400000  \n",
       "75%           13.800000  \n",
       "max           65.200000  "
      ]
     },
     "execution_count": 119,
     "metadata": {},
     "output_type": "execute_result"
    }
   ],
   "source": [
    "\n",
    "df.describe()"
   ]
  },
  {
   "cell_type": "code",
   "execution_count": 9,
   "metadata": {},
   "outputs": [
    {
     "data": {
      "text/plain": [
       "<pandas.core.groupby.generic.DataFrameGroupBy object at 0x000001BF9E4B4978>"
      ]
     },
     "execution_count": 9,
     "metadata": {},
     "output_type": "execute_result"
    }
   ],
   "source": [
    "team_rating=df.groupby(['school_rating'])\n",
    "team_rating"
   ]
  },
  {
   "cell_type": "code",
   "execution_count": null,
   "metadata": {},
   "outputs": [],
   "source": []
  }
 ],
 "metadata": {
  "kernelspec": {
   "display_name": "Python 3",
   "language": "python",
   "name": "python3"
  },
  "language_info": {
   "codemirror_mode": {
    "name": "ipython",
    "version": 3
   },
   "file_extension": ".py",
   "mimetype": "text/x-python",
   "name": "python",
   "nbconvert_exporter": "python",
   "pygments_lexer": "ipython3",
   "version": "3.7.3"
  }
 },
 "nbformat": 4,
 "nbformat_minor": 2
}
