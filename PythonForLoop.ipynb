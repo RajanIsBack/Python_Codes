{
 "cells": [
  {
   "cell_type": "code",
   "execution_count": 13,
   "metadata": {
    "collapsed": false
   },
   "outputs": [
    {
     "name": "stdout",
     "output_type": "stream",
     "text": [
      "2\n",
      "2 is even\n",
      "4\n",
      "4 is even\n",
      "1\n",
      "1 odd\n",
      "6\n",
      "6 is even\n",
      "67\n",
      "67 odd\n",
      "232\n",
      "232 is even\n",
      "All Done\n"
     ]
    }
   ],
   "source": [
    "listofNumbers=[2,4,1,6,67,232]\n",
    "for i in listofNumbers:\n",
    "    print (i)\n",
    "    if(i%2==0):\n",
    "        print(i,\"is even\")\n",
    "    else:\n",
    "        print(i,\"odd\")\n",
    "        \n",
    "print(\"All Done\")\n",
    "        "
   ]
  }
 ],
 "metadata": {
  "kernelspec": {
   "display_name": "Python 3",
   "language": "python",
   "name": "python3"
  },
  "language_info": {
   "codemirror_mode": {
    "name": "ipython",
    "version": 3
   },
   "file_extension": ".py",
   "mimetype": "text/x-python",
   "name": "python",
   "nbconvert_exporter": "python",
   "pygments_lexer": "ipython3",
   "version": "3.5.2"
  }
 },
 "nbformat": 4,
 "nbformat_minor": 2
}
