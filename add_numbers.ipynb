{
 "cells": [
  {
   "cell_type": "code",
   "execution_count": 38,
   "metadata": {
    "collapsed": false
   },
   "outputs": [
    {
     "name": "stdout",
     "output_type": "stream",
     "text": [
      "Enter first number4\n",
      "Enter second number6\n",
      "addition is  10\n",
      "substraction is -2\n"
     ]
    }
   ],
   "source": [
    "\n",
    "def add_numbers(number1,number2):\n",
    "    addition = number1+number2\n",
    "    return addition\n",
    "\n",
    "def subs_numbers(number1,number2):\n",
    "    substract = number1-number2\n",
    "    return substract\n",
    "\n",
    "\n",
    "\n",
    "\"\"\"\n",
    "def substract_numbers(number1,number2):\n",
    "    return number1-number2\n",
    "\"\"\"\n",
    "\n",
    "def main():\n",
    "\n",
    "    num1=int(input(\"Enter first number\"))\n",
    "    num2=int(input(\"Enter second number\"))\n",
    "      \n",
    "    result=add_numbers(num1,num2)\n",
    "    print( \"addition is \",result)\n",
    "    \n",
    "    result1=subs_numbers(num1,num2)\n",
    "    print ( \"substraction is\",result1)\n",
    "    \n",
    "        \n",
    "\n",
    "    \n",
    "if __name__=='__main__':\n",
    "    \n",
    "    main()\n"
   ]
  },
  {
   "cell_type": "code",
   "execution_count": null,
   "metadata": {
    "collapsed": true
   },
   "outputs": [],
   "source": []
  },
  {
   "cell_type": "code",
   "execution_count": null,
   "metadata": {
    "collapsed": true
   },
   "outputs": [],
   "source": []
  }
 ],
 "metadata": {
  "kernelspec": {
   "display_name": "Python 3",
   "language": "python",
   "name": "python3"
  },
  "language_info": {
   "codemirror_mode": {
    "name": "ipython",
    "version": 3
   },
   "file_extension": ".py",
   "mimetype": "text/x-python",
   "name": "python",
   "nbconvert_exporter": "python",
   "pygments_lexer": "ipython3",
   "version": "3.5.2"
  }
 },
 "nbformat": 4,
 "nbformat_minor": 2
}
